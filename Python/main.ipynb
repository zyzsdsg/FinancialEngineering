{
 "cells": [
  {
   "cell_type": "code",
   "execution_count": 1,
   "id": "5a1d80e6",
   "metadata": {},
   "outputs": [],
   "source": [
    "import sys\n",
    "sys.path.append(\"/Users/yuzhezhang/Desktop/FinancialEngineering/C++\")\n",
    "\n",
    "# import bs  #"
   ]
  },
  {
   "cell_type": "code",
   "execution_count": 7,
   "id": "2f2a773e",
   "metadata": {},
   "outputs": [
    {
     "ename": "AttributeError",
     "evalue": "module 'bs' has no attribute 'priceCall'",
     "output_type": "error",
     "traceback": [
      "\u001b[0;31m---------------------------------------------------------------------------\u001b[0m",
      "\u001b[0;31mAttributeError\u001b[0m                            Traceback (most recent call last)",
      "Cell \u001b[0;32mIn[7], line 1\u001b[0m\n\u001b[0;32m----> 1\u001b[0m \u001b[43mbs\u001b[49m\u001b[38;5;241;43m.\u001b[39;49m\u001b[43mpriceCall\u001b[49m(\u001b[38;5;241m100\u001b[39m, \u001b[38;5;241m100\u001b[39m, \u001b[38;5;241m0.05\u001b[39m, \u001b[38;5;241m1.0\u001b[39m, \u001b[38;5;241m0.2\u001b[39m)\n",
      "\u001b[0;31mAttributeError\u001b[0m: module 'bs' has no attribute 'priceCall'"
     ]
    }
   ],
   "source": [
    "bs.priceCall(100, 100, 0.05, 1.0, 0.2)"
   ]
  },
  {
   "cell_type": "code",
   "execution_count": 6,
   "id": "2d945fd2",
   "metadata": {},
   "outputs": [
    {
     "ename": "AttributeError",
     "evalue": "module 'bs' has no attribute 'europeanPutPrice'",
     "output_type": "error",
     "traceback": [
      "\u001b[0;31m---------------------------------------------------------------------------\u001b[0m",
      "\u001b[0;31mAttributeError\u001b[0m                            Traceback (most recent call last)",
      "Cell \u001b[0;32mIn[6], line 1\u001b[0m\n\u001b[0;32m----> 1\u001b[0m \u001b[43mbs\u001b[49m\u001b[38;5;241;43m.\u001b[39;49m\u001b[43meuropeanPutPrice\u001b[49m(\u001b[38;5;241m100\u001b[39m, \u001b[38;5;241m100\u001b[39m, \u001b[38;5;241m0.05\u001b[39m, \u001b[38;5;241m1.0\u001b[39m, \u001b[38;5;241m0.2\u001b[39m)\n",
      "\u001b[0;31mAttributeError\u001b[0m: module 'bs' has no attribute 'europeanPutPrice'"
     ]
    }
   ],
   "source": [
    "bs.europeanPutPrice(100, 100, 0.05, 1.0, 0.2)"
   ]
  }
 ],
 "metadata": {
  "kernelspec": {
   "display_name": "VIX",
   "language": "python",
   "name": "python3"
  },
  "language_info": {
   "codemirror_mode": {
    "name": "ipython",
    "version": 3
   },
   "file_extension": ".py",
   "mimetype": "text/x-python",
   "name": "python",
   "nbconvert_exporter": "python",
   "pygments_lexer": "ipython3",
   "version": "3.10.16"
  }
 },
 "nbformat": 4,
 "nbformat_minor": 5
}
