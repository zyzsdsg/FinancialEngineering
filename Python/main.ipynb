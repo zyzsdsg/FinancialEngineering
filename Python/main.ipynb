{
 "cells": [
  {
   "cell_type": "code",
   "execution_count": 11,
   "id": "5a1d80e6",
   "metadata": {},
   "outputs": [],
   "source": [
    "import sys\n",
    "sys.path.append(\"/Users/yuzhezhang/Desktop/FinancialEngineering/C++\")\n",
    "import math\n",
    "from scipy.stats import norm\n",
    "import bs  \n",
    "import QuantLib as ql"
   ]
  },
  {
   "cell_type": "code",
   "execution_count": null,
   "id": "26a0dbb3",
   "metadata": {},
   "outputs": [],
   "source": [
    "\n",
    "\n",
    "class EuropeanOption:\n",
    "    def __init__(self, S, K, r, T, sigma):\n",
    "        if S <= 0 or K <= 0 or r < 0 or T <= 0 or sigma <= 0:\n",
    "            raise ValueError(\"Invalid parameters for European Option\")\n",
    "        self.S = S\n",
    "        self.K = K\n",
    "        self.r = r\n",
    "        self.T = T\n",
    "        self.sigma = sigma\n",
    "        self.d1 = (math.log(S / K) + (r + 0.5 * sigma ** 2) * T) / (sigma * math.sqrt(T))\n",
    "        self.d2 = self.d1 - sigma * math.sqrt(T)\n",
    "\n",
    "    def price_call(self):\n",
    "        return self.S * norm.cdf(self.d1) - self.K * math.exp(-self.r * self.T) * norm.cdf(self.d2)\n",
    "\n",
    "    def price_put(self):\n",
    "        return self.K * math.exp(-self.r * self.T) * norm.cdf(-self.d2) - self.S * norm.cdf(-self.d1)\n",
    "\n",
    "    def delta_call(self):\n",
    "        return norm.cdf(self.d1)\n",
    "\n",
    "    def delta_put(self):\n",
    "        return norm.cdf(self.d1) - 1\n",
    "\n",
    "    def gamma(self):\n",
    "        return norm.pdf(self.d1) / (self.S * self.sigma * math.sqrt(self.T))\n",
    "\n",
    "    def vega(self):\n",
    "        return self.S * norm.pdf(self.d1) * math.sqrt(self.T)\n",
    "\n",
    "    def theta_call(self):\n",
    "        part1 = -(self.S * norm.pdf(self.d1) * self.sigma) / (2 * math.sqrt(self.T))\n",
    "        part2 = self.r * self.K * math.exp(-self.r * self.T) * norm.cdf(self.d2)\n",
    "        return part1 - part2\n",
    "\n",
    "    def theta_put(self):\n",
    "        part1 = -(self.S * norm.pdf(self.d1) * self.sigma) / (2 * math.sqrt(self.T))\n",
    "        part2 = self.r * self.K * math.exp(-self.r * self.T) * norm.cdf(-self.d2)\n",
    "        return part1 + part2\n",
    "\n",
    "    def rho_call(self):\n",
    "        return self.K * self.T * math.exp(-self.r * self.T) * norm.cdf(self.d2)\n",
    "\n",
    "    def rho_put(self):\n",
    "        return -self.K * self.T * math.exp(-self.r * self.T) * norm.cdf(-self.d2)\n"
   ]
  },
  {
   "cell_type": "code",
   "execution_count": 10,
   "id": "91c30e6d",
   "metadata": {},
   "outputs": [
    {
     "name": "stdout",
     "output_type": "stream",
     "text": [
      "CPU times: user 352 μs, sys: 66 μs, total: 418 μs\n",
      "Wall time: 394 μs\n"
     ]
    },
    {
     "data": {
      "text/plain": [
       "np.float64(10.450583572185565)"
      ]
     },
     "execution_count": 10,
     "metadata": {},
     "output_type": "execute_result"
    }
   ],
   "source": [
    "%%time\n",
    "py_test = EuropeanOption(100, 100, 0.05, 1.0, 0.2)\n",
    "py_test.price_call()"
   ]
  },
  {
   "cell_type": "code",
   "execution_count": 7,
   "id": "2f2a773e",
   "metadata": {},
   "outputs": [
    {
     "name": "stdout",
     "output_type": "stream",
     "text": [
      "CPU times: user 44 μs, sys: 0 ns, total: 44 μs\n",
      "Wall time: 47.2 μs\n"
     ]
    },
    {
     "data": {
      "text/plain": [
       "10.450583572185565"
      ]
     },
     "execution_count": 7,
     "metadata": {},
     "output_type": "execute_result"
    }
   ],
   "source": [
    "%%time\n",
    "cpp_test = bs.EuropeanOption(100, 100, 0.05, 1.0, 0.2)\n",
    "cpp_test.priceCall()"
   ]
  },
  {
   "cell_type": "code",
   "execution_count": 12,
   "id": "0329792c",
   "metadata": {},
   "outputs": [],
   "source": [
    "today = ql.Date.todaysDate()\n",
    "ql.Settings.instance().evaluationDate = today\n",
    "spot_price = 100     \n",
    "strike_price = 100   \n",
    "interest_rate = 0.05 \n",
    "volatility = 0.2     \n",
    "maturity = 1.0   \n",
    "expiry_date = today + int(365 * maturity)    \n",
    "calendar = ql.TARGET()\n",
    "day_count = ql.Actual365Fixed()\n",
    "spot = ql.QuoteHandle(ql.SimpleQuote(spot_price))\n",
    "flat_ts = ql.YieldTermStructureHandle(ql.FlatForward(today, interest_rate, day_count))\n",
    "vol_ts = ql.BlackVolTermStructureHandle(ql.BlackConstantVol(today, calendar, volatility, day_count))\n",
    "bsm_process = ql.BlackScholesProcess(spot, flat_ts, vol_ts)"
   ]
  },
  {
   "cell_type": "code",
   "execution_count": 19,
   "id": "aee57139",
   "metadata": {},
   "outputs": [
    {
     "name": "stdout",
     "output_type": "stream",
     "text": [
      "CPU times: user 144 μs, sys: 0 ns, total: 144 μs\n",
      "Wall time: 147 μs\n"
     ]
    },
    {
     "data": {
      "text/plain": [
       "10.450583572185575"
      ]
     },
     "execution_count": 19,
     "metadata": {},
     "output_type": "execute_result"
    }
   ],
   "source": [
    "%%time\n",
    "european_exercise = ql.EuropeanExercise(expiry_date)\n",
    "payoff_call = ql.PlainVanillaPayoff(ql.Option.Call, strike_price)\n",
    "option_call = ql.VanillaOption(payoff_call, european_exercise)\n",
    "engine = ql.AnalyticEuropeanEngine(bsm_process)\n",
    "option_call.setPricingEngine(engine)\n",
    "option_call.NPV()"
   ]
  }
 ],
 "metadata": {
  "kernelspec": {
   "display_name": "VIX",
   "language": "python",
   "name": "python3"
  },
  "language_info": {
   "codemirror_mode": {
    "name": "ipython",
    "version": 3
   },
   "file_extension": ".py",
   "mimetype": "text/x-python",
   "name": "python",
   "nbconvert_exporter": "python",
   "pygments_lexer": "ipython3",
   "version": "3.10.16"
  }
 },
 "nbformat": 4,
 "nbformat_minor": 5
}
